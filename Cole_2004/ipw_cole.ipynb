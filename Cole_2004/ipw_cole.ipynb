{
 "cells": [
  {
   "cell_type": "markdown",
   "metadata": {},
   "source": [
    "# Inverse Probability Weights\n",
    "\n",
    "### Demonstration of the IPTW class, using an example from Cole and Hernan. \"Adjusted survival curves with inverse probability weights\" DOI: 10.1016/j.cmpb.2003.10.004\n",
    "\n",
    "Using this code:\n",
    "   Run code through the terminal. The Ewing Sarcoma data will be loaded from zEpid and the process of estimating IPW\n",
    "   will be completed\n",
    "\n",
    "Graph of survival curves (weighted and unweighted) are created\n",
    "\n",
    "#### Versions:\n",
    "    zEpid 0.3.0\n",
    "    Python 3.6.3\n",
    "    numpy v1.14.5\n",
    "    pandas v0.23.0\n",
    "    lifelines v0.14.6\n",
    "\n",
    " Code by: Paul Zivich,                                                      Last edit: 2018/08/28\n",
    " \n",
    " *NOTE:* as of v0.8.0, this approach is no longer possible. You will need to use 0.7.2 release. A future update will include a separate class (`SurvivalIPTW`) to conduct this analysis"
   ]
  },
  {
   "cell_type": "markdown",
   "metadata": {},
   "source": [
    "## Step 0) Setting up environment"
   ]
  },
  {
   "cell_type": "code",
   "execution_count": 7,
   "metadata": {},
   "outputs": [],
   "source": [
    "import pandas as pd\n",
    "from lifelines import KaplanMeierFitter\n",
    "import matplotlib.pyplot as plt\n",
    "import matplotlib.gridspec as gridspec\n",
    "import zepid as ze\n",
    "from zepid.causal.ipw import IPTW\n",
    "\n",
    "%matplotlib inline\n",
    "\n",
    "df = ze.load_ewing_sarcoma_data()\n",
    "df['id'] = [i for i in range(df.shape[0])]"
   ]
  },
  {
   "cell_type": "markdown",
   "metadata": {},
   "source": [
    "## Step 1) Estimating Inverse Probability Weights"
   ]
  },
  {
   "cell_type": "code",
   "execution_count": 4,
   "metadata": {},
   "outputs": [
    {
     "name": "stdout",
     "output_type": "stream",
     "text": [
      "\n",
      "----------------------------------------------------------------\n",
      "MODEL: treat ~ ldh\n",
      "-----------------------------------------------------------------\n",
      "                 Generalized Linear Model Regression Results                  \n",
      "==============================================================================\n",
      "Dep. Variable:                  treat   No. Observations:                   76\n",
      "Model:                            GLM   Df Residuals:                       74\n",
      "Model Family:                Binomial   Df Model:                            1\n",
      "Link Function:                  logit   Scale:                          1.0000\n",
      "Method:                          IRLS   Log-Likelihood:                -44.527\n",
      "Date:                Tue, 28 Aug 2018   Deviance:                       89.054\n",
      "Time:                        08:06:14   Pearson chi2:                     76.0\n",
      "No. Iterations:                     4   Covariance Type:             nonrobust\n",
      "==============================================================================\n",
      "                 coef    std err          z      P>|z|      [0.025      0.975]\n",
      "------------------------------------------------------------------------------\n",
      "Intercept      1.2528      0.359      3.494      0.000       0.550       1.956\n",
      "ldh           -1.7123      0.514     -3.329      0.001      -2.720      -0.704\n",
      "==============================================================================\n",
      "\n",
      "----------------------------------------------------------------\n",
      "MODEL: treat ~ 1\n",
      "-----------------------------------------------------------------\n",
      "                 Generalized Linear Model Regression Results                  \n",
      "==============================================================================\n",
      "Dep. Variable:                  treat   No. Observations:                   76\n",
      "Model:                            GLM   Df Residuals:                       75\n",
      "Model Family:                Binomial   Df Model:                            0\n",
      "Link Function:                  logit   Scale:                          1.0000\n",
      "Method:                          IRLS   Log-Likelihood:                -50.527\n",
      "Date:                Tue, 28 Aug 2018   Deviance:                       101.05\n",
      "Time:                        08:06:14   Pearson chi2:                     76.0\n",
      "No. Iterations:                     4   Covariance Type:             nonrobust\n",
      "==============================================================================\n",
      "                 coef    std err          z      P>|z|      [0.025      0.975]\n",
      "------------------------------------------------------------------------------\n",
      "Intercept      0.4829      0.236      2.045      0.041       0.020       0.946\n",
      "==============================================================================\n"
     ]
    }
   ],
   "source": [
    "ipt = IPTW(df,  # pandas dataframe object\n",
    "           treatment='treat',  # treatment/exposure column label\n",
    "           stabilized=True)  # optional argument with True as default\n",
    "ipt.regression_models('ldh')  # regression model (only a single variable in this example)\n",
    "ipt.fit()  # generating IPTW (will be contained in IPTW.Weight)"
   ]
  },
  {
   "cell_type": "markdown",
   "metadata": {},
   "source": [
    "## Step 2) Extracting Weights from fitted IPTW class object "
   ]
  },
  {
   "cell_type": "code",
   "execution_count": 8,
   "metadata": {},
   "outputs": [
    {
     "name": "stdout",
     "output_type": "stream",
     "text": [
      "76.0\n"
     ]
    }
   ],
   "source": [
    "df['iptw'] = ipt.Weight  # extracting weights and adding to a new column in our dataframe\n",
    "print(round(df['iptw'].sum(), 5))  # Checking that stabilized weights add to original sample size\n",
    "\n",
    "df_t = df.loc[df['treat'] == 1].copy()  # Dividing data into novel treatment vs standard treatment\n",
    "df_u = df.loc[df['treat'] == 0].copy()"
   ]
  },
  {
   "cell_type": "markdown",
   "metadata": {},
   "source": [
    "## Step 3a) Fitting unweighted (naive) Kaplan Meier"
   ]
  },
  {
   "cell_type": "code",
   "execution_count": 13,
   "metadata": {
    "collapsed": true
   },
   "outputs": [],
   "source": [
    "kmn_t = KaplanMeierFitter()  # Among Novel treatment\n",
    "kmn_t.fit(durations=df_t['time'], event_observed=df_t['outcome'])\n",
    "unad_t = kmn_t.event_table\n",
    "unad_t['survival'] = kmn_t.survival_function_\n",
    "plot_u_t = unad_t.loc[unad_t['observed'] == 1].copy()\n",
    "\n",
    "kmn_u = KaplanMeierFitter()  # Among Standard treatment\n",
    "kmn_u.fit(durations=df_u['time'], event_observed=df_u['outcome'])\n",
    "unad_u = kmn_u.event_table\n",
    "unad_u['survival'] = kmn_u.survival_function_\n",
    "plot_u_u = unad_u.loc[unad_u.index < 1500].copy()"
   ]
  },
  {
   "cell_type": "markdown",
   "metadata": {},
   "source": [
    "## Step 3b) Fitting weighted (IPW) Kaplan Meier"
   ]
  },
  {
   "cell_type": "code",
   "execution_count": 14,
   "metadata": {},
   "outputs": [
    {
     "name": "stderr",
     "output_type": "stream",
     "text": [
      "C:\\Users\\zivic\\AppData\\Local\\Programs\\Python\\Python35-32\\lib\\site-packages\\lifelines\\utils\\__init__.py:250: RuntimeWarning: It looks like your weights are not integers, possibly prospenity scores then?\n",
      "It's important to know that the naive variance estimates of the coefficients are biased. Instead use Monte Carlo to\n",
      "estimate the variances. See paper \"Variance estimation when using inverse probability of treatment weighting (IPTW) with survival analysis\"\n",
      "or \"Adjusted Kaplan-Meier estimator and log-rank test with inverse probability of treatment weighting for survival data.\"\n",
      "                \n",
      "  \"\"\", RuntimeWarning)\n"
     ]
    }
   ],
   "source": [
    "kmn_t = KaplanMeierFitter()  # Among Novel treatment\n",
    "kmn_t.fit(durations=df_t['time'], event_observed=df_t['outcome'], weights=df_t['iptw'])\n",
    "ad_t = kmn_t.event_table\n",
    "ad_t['survival'] = kmn_t.survival_function_\n",
    "plot_a_t = ad_t.loc[ad_t['observed'] != 0].copy()\n",
    "\n",
    "kmn_u = KaplanMeierFitter()  # Among Standard treatment\n",
    "kmn_u.fit(durations=df_u['time'], event_observed=df_u['outcome'], weights=df_u['iptw'])\n",
    "ad_u = kmn_u.event_table\n",
    "ad_u['survival'] = kmn_u.survival_function_\n",
    "plot_a_u = ad_u.loc[ad_u.index < 1500].copy()"
   ]
  },
  {
   "cell_type": "markdown",
   "metadata": {},
   "source": [
    "## Step 4) Generating Figure 1"
   ]
  },
  {
   "cell_type": "code",
   "execution_count": 15,
   "metadata": {},
   "outputs": [
    {
     "data": {
      "image/png": "[encoded data removed]",
      "text/plain": [
       "<matplotlib.figure.Figure at 0x1254090>"
      ]
     },
     "metadata": {},
     "output_type": "display_data"
    }
   ],
   "source": [
    "plt.figure(figsize=[8, 4])\n",
    "gspec = gridspec.GridSpec(1, 2)\n",
    "una = plt.subplot(gspec[0, 0:1])\n",
    "adj = plt.subplot(gspec[0, 1:])\n",
    "\n",
    "una.step(plot_u_t.index, plot_u_t.survival, linestyle='--', c='gray', where='post', label='Novel Tx')\n",
    "una.step(plot_u_u.index, plot_u_u.survival, c='k', where='post', label='Standard Tx')\n",
    "una.set_ylim([0, 1.01])\n",
    "una.set_xlim([0, 1500])\n",
    "una.set_yticks([0.0, 0.25, 0.50, 0.75, 1.00])\n",
    "una.set_xticks([0, 500, 1000, 1500])\n",
    "una.legend()\n",
    "una.set_title('Unadjusted')\n",
    "adj.step(plot_a_t.index, plot_a_t.survival, linestyle='--', c='gray', where='post', label='Novel Tx')\n",
    "adj.step(plot_a_u.index, plot_a_u.survival, c='k', where='post', label='Standard Tx')\n",
    "adj.set_ylim([0, 1.01])\n",
    "adj.set_xlim([0, 1500])\n",
    "adj.set_yticks([0.0, 0.25, 0.50, 0.75, 1.00])\n",
    "adj.set_xticks([0, 500, 1000, 1500])\n",
    "adj.legend()\n",
    "adj.set_title('Weighted')\n",
    "plt.show()"
   ]
  }
 ],
 "metadata": {
  "kernelspec": {
   "display_name": "Python 3",
   "language": "python",
   "name": "python3"
  },
  "language_info": {
   "codemirror_mode": {
    "name": "ipython",
    "version": 3
   },
   "file_extension": ".py",
   "mimetype": "text/x-python",
   "name": "python",
   "nbconvert_exporter": "python",
   "pygments_lexer": "ipython3",
   "version": "3.6.3"
  }
 },
 "nbformat": 4,
 "nbformat_minor": 1
}
